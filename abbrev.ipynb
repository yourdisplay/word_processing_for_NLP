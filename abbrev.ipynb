{
 "cells": [
  {
   "cell_type": "code",
   "execution_count": 2,
   "metadata": {
    "execution": {
     "iopub.execute_input": "2021-03-17T04:30:45.131549Z",
     "iopub.status.busy": "2021-03-17T04:30:45.130787Z",
     "iopub.status.idle": "2021-03-17T04:30:46.964911Z",
     "shell.execute_reply": "2021-03-17T04:30:46.964330Z"
    },
    "papermill": {
     "duration": 1.846006,
     "end_time": "2021-03-17T04:30:46.965074",
     "exception": false,
     "start_time": "2021-03-17T04:30:45.119068",
     "status": "completed"
    },
    "tags": []
   },
   "outputs": [],
   "source": [
    "from sklearn.linear_model import LogisticRegression\n",
    "from sklearn.model_selection import cross_val_score\n",
    "from sklearn.feature_extraction.text import TfidfVectorizer, CountVectorizer\n",
    "from sklearn.linear_model import SGDClassifier\n",
    "from nltk.corpus import stopwords\n",
    "import string"
   ]
  },
  {
   "cell_type": "code",
   "execution_count": 3,
   "metadata": {
    "execution": {
     "iopub.execute_input": "2021-03-17T04:30:46.993876Z",
     "iopub.status.busy": "2021-03-17T04:30:46.993201Z",
     "iopub.status.idle": "2021-03-17T04:31:23.444073Z",
     "shell.execute_reply": "2021-03-17T04:31:23.443518Z"
    },
    "papermill": {
     "duration": 36.470218,
     "end_time": "2021-03-17T04:31:23.444255",
     "exception": false,
     "start_time": "2021-03-17T04:30:46.974037",
     "status": "completed"
    },
    "tags": []
   },
   "outputs": [],
   "source": [
    "data = pd.read_parquet('../input/....')"
   ]
  },
  {
   "cell_type": "code",
   "execution_count": 4,
   "metadata": {
    "execution": {
     "iopub.execute_input": "2021-03-17T04:31:23.468429Z",
     "iopub.status.busy": "2021-03-17T04:31:23.467735Z",
     "iopub.status.idle": "2021-03-17T04:31:26.046650Z",
     "shell.execute_reply": "2021-03-17T04:31:26.046089Z"
    },
    "papermill": {
     "duration": 2.593445,
     "end_time": "2021-03-17T04:31:26.046817",
     "exception": false,
     "start_time": "2021-03-17T04:31:23.453372",
     "status": "completed"
    },
    "tags": []
   },
   "outputs": [
    {
     "name": "stdout",
     "output_type": "stream",
     "text": [
      "(48225, 9)\n"
     ]
    }
   ],
   "source": [
    "train = data[~data.category_id.isin({-1, 121})].drop_duplicates('item_name')\n",
    "print(train.shape)"
   ]
  },
  {
   "cell_type": "code",
   "execution_count": 6,
   "metadata": {
    "execution": {
     "iopub.execute_input": "2021-03-17T04:31:26.104027Z",
     "iopub.status.busy": "2021-03-17T04:31:26.103198Z",
     "iopub.status.idle": "2021-03-17T04:31:26.106916Z",
     "shell.execute_reply": "2021-03-17T04:31:26.106251Z"
    },
    "papermill": {
     "duration": 0.025081,
     "end_time": "2021-03-17T04:31:26.107062",
     "exception": false,
     "start_time": "2021-03-17T04:31:26.081981",
     "status": "completed"
    },
    "tags": []
   },
   "outputs": [],
   "source": [
    "import re\n",
    "\n",
    "def preprocess(text):\n",
    "    text = text.lower()\n",
    "    text = \"\".join(c if c not in string.punctuation else f\" {c} \" for c in text )\n",
    "    return \" \".join(w.strip() for w in text.split())\n",
    "\n",
    "def remove_numbers(text):\n",
    "    result = re.sub(r'\\d+', '', text)\n",
    "    return result\n",
    "\n",
    "def remove_punctuation(text):\n",
    "    translator = str.maketrans('', '', '!\"#$&%*\\'()+.,:;<=>?@[\\\\]^_`{|}~№')\n",
    "    return text.translate(translator)\n",
    "\n",
    "def remove_slash(text):\n",
    "    translator = str.maketrans('', '', '/-')\n",
    "    return text.translate(translator)\n",
    "\n",
    "\n",
    "def remove_prob(text):\n",
    "    result = re.sub(r'  *', ' ', text)\n",
    "    return result\n",
    "\n",
    "def remove_letter(text):\n",
    "    text = \" \".join(word for word in text.split() if len(word)>2)\n",
    "    return text\n",
    "\n",
    "#def replace_text(text):\n",
    "#    for i in valc.keys():\n",
    "#        result = re.sub(r\"\\b(%s)\\b\" % (i), r\"%s\" % (valc[i]), text)\n",
    "#        return result\n",
    "\n",
    "#    result = str.replace(u'  *',' ')\n",
    "#    return result\n",
    "#    frm = ''.join([i for i in valc.keys()])\n",
    "#    to = ''.join([i for i in valc.values()])\n",
    "#    result = re.sub(frm, to, text)\n",
    "#    result = re.sub(r\"\\b(%s)\\b\" % frm, r\" %s \" % to, text)\n",
    "#    trantab = str.maketrans(frm, to)\n",
    "#    return text.translate(trantab)\n",
    "#    return result\n",
    "\n",
    "#def prep(text_feature):\n",
    "#    text_feature = text_feature.apply(replace_text)\n",
    "#    return text_feature\n",
    "\n",
    "def preprocessing_text(text_feature):\n",
    "    text_feature = text_feature.apply(preprocess)\n",
    "#    text_feature = text_feature.apply(remove_numbers)\n",
    "    text_feature = text_feature.apply(remove_punctuation)\n",
    "    text_feature = text_feature.apply(remove_prob)\n",
    "#    text_feature = text_feature.apply(remove_letter)\n",
    "    return text_feature\n",
    "\n",
    "def preprocessing_text_after_transcripting(text_feature):\n",
    "    text_feature = text_feature.apply(remove_slash)\n",
    "#    text_feature = text_feature.apply(remove_letter)\n",
    "    text_feature = text_feature.apply(remove_prob)\n",
    "    return text_feature"
   ]
  },
  {
   "cell_type": "code",
   "execution_count": 7,
   "metadata": {
    "execution": {
     "iopub.execute_input": "2021-03-17T04:31:26.144874Z",
     "iopub.status.busy": "2021-03-17T04:31:26.139502Z",
     "iopub.status.idle": "2021-03-17T04:31:27.052219Z",
     "shell.execute_reply": "2021-03-17T04:31:27.051009Z"
    },
    "papermill": {
     "duration": 0.935715,
     "end_time": "2021-03-17T04:31:27.052381",
     "exception": false,
     "start_time": "2021-03-17T04:31:26.116666",
     "status": "completed"
    },
    "tags": []
   },
   "outputs": [],
   "source": [
    "train['item_name'] = preprocessing_text(train['item_name'])\n",
    "#print(train.item_name.to_string())"
   ]
  },
  {
   "cell_type": "code",
   "execution_count": 8,
   "metadata": {
    "execution": {
     "iopub.execute_input": "2021-03-17T04:31:27.094284Z",
     "iopub.status.busy": "2021-03-17T04:31:27.093327Z",
     "iopub.status.idle": "2021-03-17T04:31:27.096860Z",
     "shell.execute_reply": "2021-03-17T04:31:27.096093Z"
    },
    "papermill": {
     "duration": 0.034726,
     "end_time": "2021-03-17T04:31:27.097014",
     "exception": false,
     "start_time": "2021-03-17T04:31:27.062288",
     "status": "completed"
    },
    "tags": []
   },
   "outputs": [],
   "source": [
    "sokr = {\n",
    "r'\\bпорц\\b': 'порция',\n",
    "r'\\bнап\\b': 'напиток',\n",
    "r'\\bн - к\\b': 'напиток',    \n",
    "r'\\bмол\\b': 'молочный',\n",
    "r'\\bмолоч\\b': 'молочный',\n",
    "r'\\bваф\\b': 'вафельный',\n",
    "r'\\bпюр\\b': u'пюре',\n",
    "r'\\bдет\\b': u'детское',\n",
    "r'\\bстер\\b': u'стерилизованное',\n",
    "r'\\bкотл\\b': u'котлеты',\n",
    "r'\\bкол\\b': u'колбаса',\n",
    "r'\\bсос\\b': u'сосиски',\n",
    "r'\\bсосис\\b': u'сосиски',    \n",
    "r'\\bпаш\\b': u'паштет',\n",
    "r'\\bколб\\b': u'колбаса',\n",
    "r'\\bпельм\\b': u'пельмени',    \n",
    "r'\\bпломб\\b': u'пломбир', \n",
    "    \n",
    "r'\\bхл\\b': u'хлопья',\n",
    "r'\\bовс\\b': u'овсяные',\n",
    "r'\\bмак\\b': u'макароны',\n",
    "r'\\bшок\\b': u'шоколадный',\n",
    "r'\\bшокол\\b': u'шоколадный',\n",
    "r'\\bшоколадн\\b': u'шоколадный',    \n",
    "r'\\bкф\\b': u'конфеты',\n",
    "r'\\bконф\\b': u'конфеты',\n",
    "r'\\bкоф\\b': u'кофе',\n",
    "r'\\bконд\\b': u'кондиционер',\n",
    "r'\\bчист\\b': u'чистящее',\n",
    "r'\\bнак\\b': u'накаливания',\n",
    "r'\\bкух\\b': u'кухонная',\n",
    "r'\\bкош\\b': u'кошек',\n",
    "r'\\bнаполн\\b': u'наполнитель',\n",
    "    \n",
    "r'\\bнар\\b': u'нарезной',\n",
    "r'\\bнарез\\b': u'нарезной',\n",
    "r'\\bэнерг\\b': u'энергетический',\n",
    "r'\\bэнергет\\b': u'энергетический',\n",
    "r'\\bслив\\b': u'сливочный',\n",
    "r'\\bчер\\b': u'черный',\n",
    "r'\\bзел\\b': u'зеленый',\n",
    "r'\\bшт\\b': u'штук',\n",
    "#r'\\bг\\b': u'грамм',\n",
    "r'\\bгр\\b': u'грамм',\n",
    "r'\\bмг\\b': u'миллиграмм',\n",
    "r'\\bкг\\b': u'килограмм',\n",
    "r'\\bмл\\b': u'миллилитр',\n",
    "r'\\bваф\\b': u'вафли',\n",
    "r'\\bпеч\\b': u'печенье',   \n",
    "r'\\bкф\\b': u'конфеты',\n",
    "r'\\bпри-ва\\b': u'приправа',   \n",
    "\n",
    "r'\\bсл\\b': u'сладкое',\n",
    "r'\\bсух\\b': u'сухое',\n",
    "r'\\bбут\\b': u'бутылка',\n",
    "r'\\bпаст\\b': u'пастеризованное',\n",
    "r'\\bразл\\b': u'разливное',  \n",
    "r'\\bст / б\\b': u'стеклянная банка',\n",
    "r'\\bс / б\\b': u'стеклянная банка',\n",
    "r'\\bж / б\\b': u'жестянная банка',\n",
    "r'\\bпл / б\\b': u'пластиковая бутылка',\n",
    "r'\\bп / сл\\b': u'полусладкое',\n",
    "r'\\bн / ф\\b': u'нефильтрованное', \n",
    "r'\\bсветл\\b': u'светлое',     \n",
    "    \n",
    "r'\\bдиз\\b': u'дизельное',\n",
    "r'\\bдизтопиво\\b': u'дизельное топливо',\n",
    "r'ж - л': u'журнал',\n",
    "r'\\bжур\\b': u'журнал',\n",
    "r'\\bпласт\\b': u'пластик',\n",
    "r'\\bруч\\b': u'ручка',\n",
    "r'\\bаром\\b': u'ароматический',\n",
    "r'\\bароматич\\b': u'ароматический',\n",
    "\n",
    "r'\\bмуж\\b': u'мужской',\n",
    "r'\\bжен\\b': u'женский',\n",
    "r'\\bодек\\b': u'одеколон',\n",
    "r'\\bвол\\b': u'волос',\n",
    "r'\\bтрик\\b': u'трикотажная',\n",
    "r'\\bгов\\b': u'говядина',\n",
    "r'\\bкур\\b': u'курица',\n",
    "r'\\bфил\\b': u'филе',    \n",
    "r'\\bохл\\b': u'охлажденный',\n",
    "r'\\bсалф\\b': u'салфетки',\n",
    "    \n",
    "   \n",
    "r'\\bд / п\\b': u'детское питание',\n",
    "    \n",
    "r'\\bс / к\\b': u'сырокопченая колбаса',\n",
    "r'\\bс / в\\b': u'сыровяленая колбаса',\n",
    "#r'\\bп / к\\b': u'полукопченая колбаса',\n",
    "r'\\bв / к\\b': u'варенокопченая колбаса',\n",
    "r'\\bвар\\b': u'вареная',    \n",
    "r'\\bжар\\b': u'жареная',  \n",
    "    \n",
    "r'\\bср - во\\b': u'средство', \n",
    "r'\\bг / д / д\\b': u'гель для душа',\n",
    "r'\\bд /\\b': u'для',\n",
    "#r'трк': u'топливораздаточная колонка',\n",
    "#r'грк': u'газораздаточная колонка',\n",
    "r'\\bдт\\b': u'дизельное топливо',\n",
    "r'\\bаи': u'бензин',\n",
    "r'\\bпбт': u'топливо',\n",
    "r'\\bпвх': u'пластик',\n",
    "r'\\bпэт': u'пластик',  \n",
    "    \n",
    "r'\\bр - р': u'раствор',\n",
    "r'\\bсуспб\\b ': u'суспензия',\n",
    "r'\\bп / об\\b ': u'таблетка', \n",
    "r'\\bтаб\\b': u'таблетка',\n",
    "r'\\bтбл\\b': u'таблетка',\n",
    "r'\\bжев\\b': u'жевательные',\n",
    "r'\\bкапс\\b': u'капсула',\n",
    "r'\\bфл\\b': u'флакон',  \n",
    "r'\\bмед\\b': u'медицинский',\n",
    "r'\\bт п о\\b': u'таблетка',\n",
    "r'\\bинг\\b': u'ингаляция',\n",
    "    \n",
    "r'\\bз / щ\\b': u'зубная щетка', \n",
    "r'\\bз / щетка\\b': u'зубная щетка', \n",
    "r'\\bз / паста\\b': u'зубная паста',     \n",
    "r'\\bт / в\\b': u'туалетная вода',\n",
    "r'\\bосвеж\\b': u'освежитель',\n",
    "r'\\bз / м\\b': u'замороженный',\n",
    "r'\\bгвс\\b': u'водоснабжение',        \n",
    "r'\\bхвс\\b': u'водоснабжение',  \n",
    "\n",
    "r'\\bж / р\\b': u'жевательная резинка',\n",
    "r'\\bрез\\b': u'резинка',\n",
    "r'\\bжев\\b': u'жевательная',\n",
    "r'\\bжеврез\\b': u'жевательная резинка',    \n",
    "\n",
    "r'\\bцб\\b': u'цыплят бройлеров',\n",
    "r'\\bцып\\b': u'цыплят',\n",
    "\n",
    "r'\\bкр\\b': u'крем',\n",
    "r'\\bбум\\b': u'бумага',\n",
    "r'\\bкпб\\b': u'комплект постельного белья',    \n",
    "r'\\bмин\\b': u'минеральная',    \n",
    "r'\\bнегаз\\b': u'негазированная', \n",
    "r'\\bм - з\\b': u'майонез',\n",
    "r'\\bч / с\\b': u'чистящее',\n",
    "    \n",
    "    \n",
    "r'\\bkофе\\b': u'кофе',\n",
    "r'\\bkотлета\\b': u'котлета',\n",
    "r'\\bkуриная\\b': u'куриная',\n",
    "r'\\bkартофель\\b': u'картофель',\n",
    "r'\\bkекс\\b': u'кекс',\n",
    "r'\\bkонфеты\\b': u'конфеты',    \n",
    "r'\\bмясоkраба\\b': u'мясо краба',\n",
    "r'\\bkаша\\b': u'каша',\n",
    "r'\\bkиви\\b': u'киви',\n",
    "    \n",
    "r'ё': u'е',\n",
    "r'\\bемк\\b': u'емкость',\n",
    "r'\\bтетр\\b': u'тетрадь',\n",
    "r'\\bкан\\b': u'канцелярия',\n",
    "r'\\bпрокл\\b': u'прокладки',\n",
    "r'\\bг / п\\b': u'прокладки',\n",
    "r'\\bзапрп\\b': u'заправка',\n",
    "r'\\bмеш\\b': u'мешок',\n",
    "r'\\bмус\\b': u'мусор',\n",
    "r'\\bш к о\\b': u'шоколад'\n",
    "}\n"
   ]
  },
  {
   "cell_type": "code",
   "execution_count": 9,
   "metadata": {
    "execution": {
     "iopub.execute_input": "2021-03-17T04:31:27.135552Z",
     "iopub.status.busy": "2021-03-17T04:31:27.127341Z",
     "iopub.status.idle": "2021-03-17T04:31:41.002926Z",
     "shell.execute_reply": "2021-03-17T04:31:41.002262Z"
    },
    "papermill": {
     "duration": 13.895962,
     "end_time": "2021-03-17T04:31:41.003083",
     "exception": false,
     "start_time": "2021-03-17T04:31:27.107121",
     "status": "completed"
    },
    "tags": []
   },
   "outputs": [
    {
     "name": "stderr",
     "output_type": "stream",
     "text": [
      "/opt/conda/lib/python3.7/site-packages/ipykernel_launcher.py:2: FutureWarning: The default value of regex will change from True to False in a future version.\n",
      "  \n"
     ]
    }
   ],
   "source": [
    "for i in sokr.keys():\n",
    "    train['item_name'] = train['item_name'].str.replace(r\"%s\" % (i), r\"%s\" % (sokr[i]))"
   ]
  },
  {
   "cell_type": "code",
   "execution_count": 10,
   "metadata": {
    "execution": {
     "iopub.execute_input": "2021-03-17T04:31:41.055692Z",
     "iopub.status.busy": "2021-03-17T04:31:41.034746Z",
     "iopub.status.idle": "2021-03-17T04:31:41.394804Z",
     "shell.execute_reply": "2021-03-17T04:31:41.395330Z"
    },
    "papermill": {
     "duration": 0.38202,
     "end_time": "2021-03-17T04:31:41.395522",
     "exception": false,
     "start_time": "2021-03-17T04:31:41.013502",
     "status": "completed"
    },
    "tags": []
   },
   "outputs": [],
   "source": [
    "train['item_name'] = preprocessing_text_after_transcripting(train['item_name'])"
   ]
  }
 ],
 "metadata": {
  "kernelspec": {
   "display_name": "Python 3",
   "language": "python",
   "name": "python3"
  },
  "language_info": {
   "codemirror_mode": {
    "name": "ipython",
    "version": 3
   },
   "file_extension": ".py",
   "mimetype": "text/x-python",
   "name": "python",
   "nbconvert_exporter": "python",
   "pygments_lexer": "ipython3",
   "version": "3.7.9"
  },
  "papermill": {
   "default_parameters": {},
   "duration": 66.308538,
   "end_time": "2021-03-17T04:31:45.165901",
   "environment_variables": {},
   "exception": null,
   "input_path": "__notebook__.ipynb",
   "output_path": "__notebook__.ipynb",
   "parameters": {},
   "start_time": "2021-03-17T04:30:38.857363",
   "version": "2.2.2"
  }
 },
 "nbformat": 4,
 "nbformat_minor": 4
}